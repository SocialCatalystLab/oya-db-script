{
  "nbformat": 4,
  "nbformat_minor": 0,
  "metadata": {
    "colab": {
      "provenance": []
    },
    "kernelspec": {
      "name": "python3",
      "display_name": "Python 3"
    },
    "language_info": {
      "name": "python"
    }
  },
  "cells": [
    {
      "cell_type": "code",
      "source": [
        "# Get the time and print it\n",
        "import datetime\n",
        "\n",
        "datetime.datetime.now()\n",
        "print(datetime.datetime.now())\n",
        "\n",
        "from google.colab import drive\n",
        "drive.mount('/content/gdrive')"
      ],
      "metadata": {
        "colab": {
          "base_uri": "https://localhost:8080/"
        },
        "id": "JFdVw9gbppKH",
        "outputId": "55654d6d-3b66-4639-806d-0550d2b711fa"
      },
      "execution_count": 3,
      "outputs": [
        {
          "output_type": "stream",
          "name": "stdout",
          "text": [
            "2024-07-29 07:58:43.424022\n",
            "Drive already mounted at /content/gdrive; to attempt to forcibly remount, call drive.mount(\"/content/gdrive\", force_remount=True).\n"
          ]
        }
      ]
    },
    {
      "cell_type": "code",
      "source": [
        "# Olaf de Rohan Willner\n",
        "# ocd4@cornell.edu / olaf.willner@econ.uzh.ch\n",
        "# Version: July 27, 2024\n",
        "\n",
        "# Try installing libraries\n",
        "import subprocess\n",
        "import sys\n",
        "import os\n",
        "\n",
        "def install_if_not_installed(package_name):\n",
        "    try:\n",
        "        __import__(package_name)\n",
        "    except ImportError:\n",
        "        subprocess.check_call([sys.executable, \"-m\", \"pip\", \"install\", package_name])\n",
        "\n",
        "packages = [\"selenium\", \"webdriver_manager\", \"datetime\", \"time\", \"pyjanitor\", \"pandas\", \"fnmatch\", \"pymssql\"]\n",
        "\n",
        "for package in packages:\n",
        "    install_if_not_installed(package)\n",
        "\n",
        "!apt-get update\n",
        "!apt install firefox\n",
        "\n",
        "from selenium import webdriver\n",
        "from selenium.webdriver import Firefox\n",
        "from selenium.webdriver.common.by import By\n",
        "from selenium.webdriver.firefox.service import Service as FirefoxService\n",
        "from selenium.webdriver.firefox.options import Options as FirefoxOptions\n",
        "from webdriver_manager.firefox import GeckoDriverManager\n",
        "from selenium.webdriver.support.ui import WebDriverWait\n",
        "from selenium.webdriver.support import expected_conditions as EC\n",
        "import pandas as pd\n",
        "from janitor import clean_names\n",
        "import fnmatch\n",
        "import datetime\n",
        "import time"
      ],
      "metadata": {
        "colab": {
          "base_uri": "https://localhost:8080/"
        },
        "id": "JqI33JdCW4Z1",
        "outputId": "54b032b7-7fd5-4497-bd5d-232b668abb5b"
      },
      "execution_count": 21,
      "outputs": [
        {
          "output_type": "stream",
          "name": "stderr",
          "text": [
            "/usr/local/lib/python3.10/dist-packages/ipykernel/ipkernel.py:283: DeprecationWarning: `should_run_async` will not call `transform_cell` automatically in the future. Please pass the result to `transformed_cell` argument and any exception that happen during thetransform in `preprocessing_exc_tuple` in IPython 7.17 and above.\n",
            "  and should_run_async(code)\n"
          ]
        },
        {
          "output_type": "stream",
          "name": "stdout",
          "text": [
            "\r0% [Working]\r            \rHit:1 https://cloud.r-project.org/bin/linux/ubuntu jammy-cran40/ InRelease\n",
            "\r0% [Connecting to archive.ubuntu.com (185.125.190.82)] [Connecting to security.ubuntu.com (185.125.1\r                                                                                                    \rHit:2 https://developer.download.nvidia.com/compute/cuda/repos/ubuntu2204/x86_64  InRelease\n",
            "\r0% [Connecting to archive.ubuntu.com (185.125.190.82)] [Connecting to security.ubuntu.com (185.125.1\r                                                                                                    \rHit:3 https://packages.microsoft.com/ubuntu/22.04/prod jammy InRelease\n",
            "\r0% [Connecting to archive.ubuntu.com (185.125.190.82)] [Waiting for headers] [Waiting for headers] [\r                                                                                                    \rIgn:4 https://r2u.stat.illinois.edu/ubuntu jammy InRelease\n",
            "\r0% [Waiting for headers] [Waiting for headers] [Connected to ppa.launchpadcontent.net (185.125.190.8\r                                                                                                    \rHit:5 https://r2u.stat.illinois.edu/ubuntu jammy Release\n",
            "\r0% [Waiting for headers] [Waiting for headers] [Connected to ppa.launchpadcontent.net (185.125.190.8\r0% [Waiting for headers] [Waiting for headers] [Connected to ppa.launchpadcontent.net (185.125.190.8\r                                                                                                    \rGet:6 http://security.ubuntu.com/ubuntu jammy-security InRelease [129 kB]\n",
            "Hit:7 http://archive.ubuntu.com/ubuntu jammy InRelease\n",
            "Get:8 http://archive.ubuntu.com/ubuntu jammy-updates InRelease [128 kB]\n",
            "Hit:9 https://ppa.launchpadcontent.net/deadsnakes/ppa/ubuntu jammy InRelease\n",
            "Hit:11 https://ppa.launchpadcontent.net/graphics-drivers/ppa/ubuntu jammy InRelease\n",
            "Hit:12 https://ppa.launchpadcontent.net/ubuntugis/ppa/ubuntu jammy InRelease\n",
            "Hit:13 http://archive.ubuntu.com/ubuntu jammy-backports InRelease\n",
            "Fetched 257 kB in 1s (180 kB/s)\n",
            "Reading package lists... Done\n",
            "W: Skipping acquire of configured file 'main/source/Sources' as repository 'https://r2u.stat.illinois.edu/ubuntu jammy InRelease' does not seem to provide it (sources.list entry misspelt?)\n",
            "Reading package lists... Done\n",
            "Building dependency tree... Done\n",
            "Reading state information... Done\n",
            "firefox is already the newest version (1:1snap1-0ubuntu2).\n",
            "You might want to run 'apt --fix-broken install' to correct these.\n",
            "The following packages have unmet dependencies:\n",
            " unixodbc : Depends: odbcinst1debian2 (>= 2.3.11-1) but it is not going to be installed\n",
            "            Depends: libodbc1 (>= 2.3.11-1) but it is not going to be installed\n",
            "\u001b[1;31mE: \u001b[0mUnmet dependencies. Try 'apt --fix-broken install' with no packages (or specify a solution).\u001b[0m\n"
          ]
        }
      ]
    },
    {
      "cell_type": "code",
      "execution_count": 5,
      "metadata": {
        "colab": {
          "base_uri": "https://localhost:8080/"
        },
        "id": "hLGL9Jm7iKAo",
        "outputId": "69df7027-e471-4489-83d6-7b15e053b815"
      },
      "outputs": [
        {
          "output_type": "stream",
          "name": "stderr",
          "text": [
            "/usr/local/lib/python3.10/dist-packages/ipykernel/ipkernel.py:283: DeprecationWarning: `should_run_async` will not call `transform_cell` automatically in the future. Please pass the result to `transformed_cell` argument and any exception that happen during thetransform in `preprocessing_exc_tuple` in IPython 7.17 and above.\n",
            "  and should_run_async(code)\n"
          ]
        },
        {
          "output_type": "stream",
          "name": "stdout",
          "text": [
            "Login successful\n",
            "Downloading file...\n",
            "['LOAN APPLICATION REPORT-FROM-07292024-TO-07292024-224.xls', 'LOAN APPLICATION REPORT-FROM-07292024-TO-07292024-155.xls', 'LOAN APPLICATION REPORT-FROM-07292024-TO-07292024-189.xls']\n",
            "download report successful\n"
          ]
        }
      ],
      "source": [
        "# Define webdriver parameters\n",
        "service = webdriver.FirefoxService(service_args=['--log', 'debug'])\n",
        "firefox_options = FirefoxOptions()\n",
        "firefox_options.add_argument(\"--headless\")\n",
        "driver = webdriver.Firefox(service=service, options=firefox_options)\n",
        "\n",
        "# -- Start LOAN APPLICATIONS script --\n",
        "\n",
        "# Store the current window handle\n",
        "main_window = driver.current_window_handle\n",
        "\n",
        "# Open the login page\n",
        "driver.get('https://backupfs.provisocloud.com:255/default.aspx')\n",
        "\n",
        "# enter username\n",
        "driver.find_element(By.ID, \"txtUserID\").send_keys(\"505\")\n",
        "# enter password\n",
        "driver.find_element(By.ID, \"txtUserPassword\").send_keys(\"123456\")\n",
        "# click login\n",
        "driver.find_element(By.ID, \"cmbLogin\").click()\n",
        "\n",
        "# TEMP FIX TO OVERRIDE FFOX WARNINGS\n",
        "time.sleep(10)\n",
        "print(\"Login successful\")\n",
        "\n",
        "# Switch to popup window\n",
        "for handle in driver.window_handles:\n",
        "    if handle != main_window:\n",
        "        popup = handle\n",
        "        driver.switch_to.window(popup)\n",
        "\n",
        "# click report menu\n",
        "driver.find_element(By.ID, \"TreeView15t0\").click()\n",
        "# click loans report\n",
        "driver.find_element(By.ID, \"TreeView15t46\").click()\n",
        "# click loan application report\n",
        "driver.find_element(By.ID, \"TreeView15t47\").click()\n",
        "# click loan application report\n",
        "driver.find_element(By.ID, \"TreeView15t48\").click()\n",
        "\n",
        "time.sleep(5)\n",
        "\n",
        "# Switch to new popup window\n",
        "for handle in driver.window_handles:\n",
        "    if handle != main_window:\n",
        "        popup = handle\n",
        "        driver.switch_to.window(popup)\n",
        "\n",
        "# DEFAULT TO TODAY'S DATE\n",
        "# Run at 11pm every day\n",
        "# from date\n",
        "driver.find_element(By.ID, \"txtDf\").clear()\n",
        "driver.find_element(By.ID, \"txtDf\").send_keys(datetime.datetime.today().strftime('%m/%d/%Y'))\n",
        "# to date\n",
        "driver.find_element(By.ID, \"txtDt\").clear()\n",
        "driver.find_element(By.ID, \"txtDt\").send_keys(datetime.datetime.today().strftime('%m/%d/%Y'))\n",
        "\n",
        "# click show report\n",
        "button1 = WebDriverWait(driver, 600).until(\n",
        "        EC.presence_of_element_located((By.ID, \"Button1\"))\n",
        "    )\n",
        "button1.click()\n",
        "\n",
        "# click download report in Excel\n",
        "button2 = WebDriverWait(driver, 300).until(\n",
        "        EC.presence_of_element_located((By.ID, \"Button2\"))\n",
        "    )\n",
        "button2.click()\n",
        "\n",
        "print('Downloading file...')\n",
        "\n",
        "time.sleep(60)\n",
        "\n",
        "download_path = '/root/Downloads'\n",
        "downloaded_files = os.listdir(download_path)\n",
        "print(downloaded_files)\n",
        "\n",
        "print(\"download report successful\")\n",
        "\n",
        "# -- End LOAN APPLICATIONS script --\n"
      ]
    },
    {
      "cell_type": "code",
      "source": [
        "# Import libraries\n",
        "import pymssql\n",
        "\n",
        "# Append loan application data\n",
        "# Find the file with the specific pattern in its name\n",
        "pattern = '*LOAN APPLICATION REPORT*.xls'\n",
        "matching_files = fnmatch.filter(downloaded_files, pattern)\n",
        "\n",
        "if matching_files:\n",
        "    file_path = os.path.join(download_path, matching_files[0])\n",
        "    print(f\"Selected file: {file_path}\")\n",
        "else:\n",
        "    print(\"No matching file found\")\n",
        "\n",
        "# Connect to the database\n",
        "server = \"gendercredit-server.database.windows.net\"\n",
        "database = 'gendercredit-DB'\n",
        "user = 'sqladmin'\n",
        "password = 'wuskik-kicCok-sigxo1'\n",
        "\n",
        "conn = pymssql.connect(server, user, password, database)\n",
        "cursor = conn.cursor()\n",
        "\n",
        "print('Connected to Azure SQL DB')\n",
        "\n",
        "\n",
        "\n",
        "df = pd.read_table(file_path)\n",
        "df = clean_names(df)\n",
        "df = df.apply(lambda x: x.str.strip() if x.dtype == \"object\" else x)\n",
        "df = df.fillna(value=0)\n",
        "df.columns = df.columns.str.replace('#', 'number')\n",
        "\n",
        "print('Successfully read .xls file')\n",
        "\n",
        "for index, row in df.iterrows():\n",
        "    cursor.execute(\"\"\"\n",
        "        INSERT INTO loan_applications (\n",
        "            docket_number, full_name, track_number, request_amt, disb_mode,\n",
        "            contact_number, momo_number, bank_name, b_a_number, product_name, location,\n",
        "            userid, created_by, date, time\n",
        "        ) VALUES (%s, %s, %s, %s, %s, %s, %s, %s, %s, %s, %s, %s, %s, %s, %s)\n",
        "        \"\"\",\n",
        "        (\n",
        "            row['docket_number'], row['full_name'], row['track_number'], row['request_amt'], row['disb_mode'],\n",
        "            row['contact_number'], row['momo_number'], row['bank_name'], row['b_a_number'], row['product_name'], row['location'],\n",
        "            row['userid'], row['created_by'], row['date'], row['time']\n",
        "        )\n",
        "    )\n",
        "\n",
        "conn.commit()\n",
        "cursor.close()\n",
        "conn.close()\n",
        "\n",
        "print(\"Successfully inserted data to SQL\")\n"
      ],
      "metadata": {
        "colab": {
          "base_uri": "https://localhost:8080/"
        },
        "id": "kuaeEP3eL6-E",
        "outputId": "43f9b604-1bfc-4a7e-df1c-3e10228e0fbe"
      },
      "execution_count": 20,
      "outputs": [
        {
          "output_type": "stream",
          "name": "stderr",
          "text": [
            "/usr/local/lib/python3.10/dist-packages/ipykernel/ipkernel.py:283: DeprecationWarning: `should_run_async` will not call `transform_cell` automatically in the future. Please pass the result to `transformed_cell` argument and any exception that happen during thetransform in `preprocessing_exc_tuple` in IPython 7.17 and above.\n",
            "  and should_run_async(code)\n"
          ]
        },
        {
          "output_type": "stream",
          "name": "stdout",
          "text": [
            "Selected file: /root/Downloads/LOAN APPLICATION REPORT-FROM-07292024-TO-07292024-224.xls\n",
            "Connected to Azure SQL DB\n",
            "Successfully read .xls file\n",
            "Successfully inserted data to SQL\n"
          ]
        }
      ]
    }
  ]
}